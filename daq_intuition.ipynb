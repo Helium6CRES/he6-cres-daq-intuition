{
 "cells": [
  {
   "cell_type": "markdown",
   "metadata": {},
   "source": [
    "# Gaining intuition for our DAQ: "
   ]
  },
  {
   "cell_type": "code",
   "execution_count": 1,
   "metadata": {},
   "outputs": [],
   "source": [
    "import os\n",
    "import ipywidgets as widgets\n",
    "from ipywidgets import interact, interact_manual\n",
    "import matplotlib.pyplot as plt\n",
    "import numpy as np\n",
    "import pandas as pd\n",
    "\n",
    "# Plt settings. \n",
    "plt.rcParams[\"figure.dpi\"] = 200\n",
    "plt.rcParams.update({\"font.size\": 12})\n",
    "plt.rcParams['figure.figsize'] = (8,5)"
   ]
  },
  {
   "cell_type": "code",
   "execution_count": 2,
   "metadata": {},
   "outputs": [],
   "source": [
    "# Constants. \n",
    "PI = np.pi"
   ]
  },
  {
   "cell_type": "markdown",
   "metadata": {},
   "source": [
    "## 1. FFT of noisy sin wave: \n",
    "\n",
    "$ y(t) = A \\, sin(2 \\pi f t) + RandGauss(\\mu = 0, \\sigma = N_{std})$"
   ]
  },
  {
   "cell_type": "code",
   "execution_count": 12,
   "metadata": {},
   "outputs": [
    {
     "data": {
      "application/vnd.jupyter.widget-view+json": {
       "model_id": "d0dd69f9ca1c4e03a557d352a1bc134f",
       "version_major": 2,
       "version_minor": 0
      },
      "text/plain": [
       "interactive(children=(FloatSlider(value=150.0, description='f', max=500.0, step=10.0), IntSlider(value=5, desc…"
      ]
     },
     "metadata": {},
     "output_type": "display_data"
    }
   ],
   "source": [
    "@interact\n",
    "def simple_fft(f = widgets.FloatSlider(value=150,min=0,max=500,step=10.0), A = (0,10,1), N_std = (0,10,1)): \n",
    "    \n",
    "    # Alter names: \n",
    "    signal_amp = A\n",
    "    noise_std = N_std\n",
    "    # Discrete time axis. \n",
    "    signal_duration = 1\n",
    "    fft_pts = 1000\n",
    "    t = np.linspace(0, 1, fft_pts)\n",
    "\n",
    "    # Create gaussian distributed noise with std noise_std. \n",
    "    noise = np.random.normal(0,noise_std,fft_pts)\n",
    "\n",
    "    # Create signal.\n",
    "    signal = signal_amp*np.sin(f * 2 * PI * t)\n",
    "\n",
    "    # Add the noise. \n",
    "    signal = signal + noise\n",
    "    \n",
    "    fft = np.fft.fft(signal)\n",
    "    T = t[1] - t[0]  # sampling interval \n",
    "    N = signal.size\n",
    "\n",
    "    freq_axis = np.linspace(0, 1 / T, N)\n",
    "\n",
    "    # Plot the signal and FFT\n",
    "    fig, (ax1, ax2) = plt.subplots(2)\n",
    "    \n",
    "    ax1.set_title(\"Signal\")\n",
    "    ax1.set_ylabel(\"Amplitude\")\n",
    "    ax1.set_xlabel(\"Time [s]\")\n",
    "    ax1.plot(t, signal)\n",
    "    \n",
    "    ax2.set_title(\"FFT\")\n",
    "    ax2.set_ylabel(\"Amplitude\")\n",
    "    ax2.set_xlabel(\"Frequency [Hz]\")\n",
    "    ax2.bar(freq_axis[:N // 2], np.abs(fft)[:N // 2] * 1 / N, width=1)  # 1 / N is a normalization factor\n",
    "    plt.tight_layout()\n",
    "    plt.show()\n"
   ]
  },
  {
   "cell_type": "markdown",
   "metadata": {},
   "source": [
    "## 2. FFT of noisy modulated sin wave: \n",
    "\n",
    "$ y(t) = A \\, sin(2 \\pi f t + h \\, sin(2 \\pi f_m t ) )+ RandGauss(\\mu = 0, \\sigma = N_{std})$"
   ]
  },
  {
   "cell_type": "code",
   "execution_count": 13,
   "metadata": {},
   "outputs": [
    {
     "data": {
      "application/vnd.jupyter.widget-view+json": {
       "model_id": "f73d3636f34b4793bf2e53522fe4091c",
       "version_major": 2,
       "version_minor": 0
      },
      "text/plain": [
       "interactive(children=(FloatSlider(value=150.0, description='f', max=500.0, step=10.0), IntSlider(value=5, desc…"
      ]
     },
     "metadata": {},
     "output_type": "display_data"
    }
   ],
   "source": [
    "@interact\n",
    "def simple_fft(f = widgets.FloatSlider(value=150,min=0,max=500,step=10.0), A = (0,10,1),f_m = (0,60,5), h = (0,5,.1), N_std = (0,10,1)): \n",
    "    \n",
    "    # Alter names: \n",
    "    signal_amp = A\n",
    "    noise_std = N_std\n",
    "    \n",
    "    # Discrete time axis. \n",
    "    signal_duration = 1\n",
    "    fft_pts = 1000\n",
    "    t = np.linspace(0, 1, fft_pts)\n",
    "\n",
    "    # Create gaussian distributed noise with std noise_std. \n",
    "    noise = np.random.normal(0,noise_std,fft_pts)\n",
    "\n",
    "    # Create signal.\n",
    "    \n",
    "    signal = signal_amp*np.sin(f * 2 * PI * t+ h*np.sin(f_m * 2 * PI * t))\n",
    "\n",
    "    # Add the noise. \n",
    "    signal = signal + noise\n",
    "    \n",
    "    fft = np.fft.fft(signal)\n",
    "    T = t[1] - t[0]  # sampling interval \n",
    "    N = signal.size\n",
    "\n",
    "    freq_axis = np.linspace(0, 1 / T, N)\n",
    "\n",
    "    # Plot the signal and FFT\n",
    "    fig, (ax1, ax2) = plt.subplots(2)\n",
    "    \n",
    "    ax1.set_title(\"Signal\")\n",
    "    ax1.set_ylabel(\"Amplitude\")\n",
    "    ax1.set_xlabel(\"Time [s]\")\n",
    "    ax1.plot(t, signal)\n",
    "    \n",
    "    ax2.set_title(\"FFT\")\n",
    "    ax2.set_ylabel(\"Amplitude\")\n",
    "    ax2.set_xlabel(\"Frequency [Hz]\")\n",
    "    ax2.bar(freq_axis[:N // 2], np.abs(fft)[:N // 2] * 1 / N, width=1)  # 1 / N is a normalization factor\n",
    "    plt.tight_layout()\n",
    "    plt.show()\n"
   ]
  },
  {
   "cell_type": "markdown",
   "metadata": {},
   "source": [
    "## 3. FFT of product of red and blue shifted waves:\n",
    "\n",
    "$ y_1(t) = A_1 \\, sin(2 \\pi f t + h \\, sin(2 \\pi f_m t ) )+ RandGauss(\\mu = 0, \\sigma = N_{std1})$\n",
    "\n",
    "$ y_2(t) = A_2 \\, sin(2 \\pi f t - h \\, sin(2 \\pi f_m t ) )+ RandGauss(\\mu = 0, \\sigma = N_{std2})$"
   ]
  },
  {
   "cell_type": "code",
   "execution_count": 16,
   "metadata": {},
   "outputs": [
    {
     "data": {
      "application/vnd.jupyter.widget-view+json": {
       "model_id": "7effa47625bd4a979887021c1d329675",
       "version_major": 2,
       "version_minor": 0
      },
      "text/plain": [
       "interactive(children=(FloatSlider(value=150.0, description='f', max=500.0, step=10.0), IntSlider(value=5, desc…"
      ]
     },
     "metadata": {},
     "output_type": "display_data"
    }
   ],
   "source": [
    "@interact\n",
    "def simple_fft(f = widgets.FloatSlider(value=150,min=0,max=500,step=10.0), A_1 = (0,10,1), A_2 = (0,10,1),\n",
    "               f_m = (0,60,5), h = (0,5,.1), N_std1 = (0,10,1), N_std2 = (0,10,1), phi = (0,2*PI, .05)): \n",
    "    \n",
    "\n",
    "    # Discrete time axis. \n",
    "    signal_duration = 1\n",
    "    fft_pts = 1000\n",
    "    t = np.linspace(0, 1, fft_pts)\n",
    "\n",
    "    # Create gaussian distributed noise. \n",
    "    noise_1 = np.random.normal(0,N_std1,fft_pts)\n",
    "    noise_2 = np.random.normal(0,N_std2,fft_pts)\n",
    "\n",
    "    # Create two signals.\n",
    "\n",
    "    signal_1 = A_1*np.sin(f * 2 * PI * t + h*np.sin(f_m * 2 * PI * t))\n",
    "    signal_2 = A_2*np.sin(f * 2 * PI * t - h*np.sin(f_m * 2 * PI * t) + phi)\n",
    "\n",
    "    # Add the noise. \n",
    "    signal_1 = signal_1 + noise_1\n",
    "    signal_2 = signal_2 + noise_2\n",
    "\n",
    "    # Create the product signal:\n",
    "    signal = signal_1*signal_2\n",
    "#     # Create signal.\n",
    "    \n",
    "#     signal = signal_amp*np.sin(f * 2 * PI * t+ h*np.sin(f_m * 2 * PI * t))\n",
    "\n",
    "#     # Add the noise. \n",
    "#     signal = signal + noise\n",
    "    fft_signal_1 = np.fft.fft(signal_1)\n",
    "    fft_product = np.fft.fft(signal)\n",
    "    \n",
    "    T = t[1] - t[0]  # sampling interval \n",
    "    N = signal.size\n",
    "\n",
    "    freq_axis = np.linspace(0, 1 / T, N)\n",
    "\n",
    "    # Plot the signal and FFT\n",
    "    fig, ( ax1, ax2) = plt.subplots(2)\n",
    "     \n",
    "    ax1.set_title(\"FFT of y_1(t) \")\n",
    "    ax1.set_ylabel(\"Amplitude\")\n",
    "    ax1.set_xlabel(\"Frequency [Hz]\")\n",
    "    ax1.bar(freq_axis[:N // 2], np.abs(fft_signal_1)[:N // 2] * 1 / N, width=1) \n",
    "    \n",
    "    ax2.set_title(\"FFT of Product Signal\")\n",
    "    ax2.set_ylabel(\"Amplitude\")\n",
    "    ax2.set_xlabel(\"Frequency [Hz]\")\n",
    "    ax2.bar(freq_axis[:N // 2], np.abs(fft_product)[:N // 2] * 1 / N, width=1) \n",
    "    plt.tight_layout()\n",
    "    plt.show()\n"
   ]
  }
 ],
 "metadata": {
  "kernelspec": {
   "display_name": "Python 3",
   "language": "python",
   "name": "python3"
  },
  "language_info": {
   "codemirror_mode": {
    "name": "ipython",
    "version": 3
   },
   "file_extension": ".py",
   "mimetype": "text/x-python",
   "name": "python",
   "nbconvert_exporter": "python",
   "pygments_lexer": "ipython3",
   "version": "3.7.6"
  }
 },
 "nbformat": 4,
 "nbformat_minor": 4
}
